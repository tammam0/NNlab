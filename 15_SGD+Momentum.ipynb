{
 "cells": [
  {
   "cell_type": "code",
   "execution_count": 2,
   "metadata": {},
   "outputs": [],
   "source": [
    "import numpy as np\n",
    "import tensorflow as tf\n",
    "import matplotlib.pyplot as plt"
   ]
  },
  {
   "cell_type": "code",
   "execution_count": 3,
   "metadata": {},
   "outputs": [],
   "source": [
    "#x -=learning_rate * vx\n",
    "N, D, H= 64, 1000, 100\n",
    "x = tf.placeholder(tf.float32, shape=(N, D))\n",
    "y = tf.placeholder(tf.float32, shape=(N, D))\n",
    "w1 = tf.Variable(tf.random_normal((D, H)))\n",
    "w2 = tf.Variable(tf.random_normal((H, D)))\n",
    "h= tf.maximum(tf.matmul(x,w1), 0)\n",
    "y_pred = tf.matmul(h, w2)\n",
    "diff =y_pred-y\n",
    "loss = tf.reduce_mean(tf.reduce_sum(diff ** 2, axis=1))\n",
    "grad_w1, grad_w2 = tf.gradients(loss ,[w1, w2])"
   ]
  },
  {
   "cell_type": "code",
   "execution_count": null,
   "metadata": {},
   "outputs": [],
   "source": [
    "vx = 0\n",
    "roh = 0.9\n",
    "learning_rate = 1e-5\n",
    "vx_w1 = roh * vx + grad_w1\n",
    "vx_w2 = roh * vx + grad_w2\n",
    "W1 = w1 - learning_rate * vx_w1\n",
    "W2 = w2 - learning_rate * vx_w2\n",
    "new_w1 = w1.assign(W1)\n",
    "new_w2 = w2.assign(W2)\n",
    "updates = tf.group(new_w1,new_w2)"
   ]
  },
  {
   "cell_type": "code",
   "execution_count": 5,
   "metadata": {},
   "outputs": [
    {
     "data": {
      "image/png": "[encoded data removed]",
      "text/plain": [
       "<Figure size 432x288 with 1 Axes>"
      ]
     },
     "metadata": {
      "needs_background": "light"
     },
     "output_type": "display_data"
    },
    {
     "name": "stdout",
     "output_type": "stream",
     "text": [
      "[163765.9, None] [332.58734, None]\n"
     ]
    }
   ],
   "source": [
    "with tf.Session() as sess:\n",
    "    sess.run(tf.global_variables_initializer())\n",
    "    values = {x: np.random.rand (N, D), y: np.random.rand (N, D)}\n",
    "    step = 5000\n",
    "    loss_summary = []\n",
    "    for i in range(step):\n",
    "        out = sess.run([loss, updates], feed_dict=values)\n",
    "        loss_val = out\n",
    "        loss_summary.append(loss_val)\n",
    "    plt.plot(range(step), loss_summary, 'ro', label='loss_val')\n",
    "    plt.show()\n",
    "    print(loss_summary[1],loss_summary[step-1])"
   ]
  },
  {
   "cell_type": "code",
   "execution_count": 6,
   "metadata": {},
   "outputs": [],
   "source": [
    "#x +=vx\n",
    "N, D, H= 64, 1000, 100\n",
    "x = tf.placeholder(tf.float32, shape=(N, D))\n",
    "y = tf.placeholder(tf.float32, shape=(N, D))\n",
    "w1 = tf.Variable(tf.random_normal((D, H)))\n",
    "w2 = tf.Variable(tf.random_normal((H, D)))\n",
    "h= tf.maximum(tf.matmul(x,w1), 0)\n",
    "y_pred = tf.matmul(h, w2)\n",
    "diff =y_pred-y\n",
    "loss = tf.reduce_mean(tf.reduce_sum(diff ** 2, axis=1))\n",
    "grad_w1, grad_w2 = tf.gradients(loss ,[w1, w2])\n",
    "vx = 0\n",
    "roh = 0.9\n",
    "learning_rate = 1e-5\n",
    "vx_w1 = roh * vx - (learning_rate * grad_w1)\n",
    "vx_w2 = roh * vx - (learning_rate * grad_w2)\n",
    "W1 = w1 + vx_w1\n",
    "W2 = w2 + vx_w2\n",
    "new_w1 = w1.assign(W1)\n",
    "new_w2 = w2.assign(W2)\n",
    "updates = tf.group(new_w1,new_w2)"
   ]
  },
  {
   "cell_type": "code",
   "execution_count": 7,
   "metadata": {},
   "outputs": [
    {
     "data": {
      "image/png": "[encoded data removed]",
      "text/plain": [
       "<Figure size 432x288 with 1 Axes>"
      ]
     },
     "metadata": {
      "needs_background": "light"
     },
     "output_type": "display_data"
    },
    {
     "name": "stdout",
     "output_type": "stream",
     "text": [
      "[282092.6, None] [332.8042, None]\n"
     ]
    }
   ],
   "source": [
    "with tf.Session() as sess:\n",
    "    sess.run(tf.global_variables_initializer())\n",
    "    values = {x: np.random.rand (N, D), y: np.random.rand (N, D)}\n",
    "    step = 5000\n",
    "    loss_summary = []\n",
    "    for i in range(step):\n",
    "        out = sess.run([loss, updates], feed_dict=values)\n",
    "        loss_val = out\n",
    "        loss_summary.append(loss_val)\n",
    "    plt.plot(range(step), loss_summary, 'ro', label='loss_val')\n",
    "    plt.show()\n",
    "    print(loss_summary[1],loss_summary[step-1])"
   ]
  },
  {
   "cell_type": "code",
   "execution_count": null,
   "metadata": {},
   "outputs": [],
   "source": []
  }
 ],
 "metadata": {
  "kernelspec": {
   "display_name": "NNlab",
   "language": "python",
   "name": "nnlab"
  },
  "language_info": {
   "codemirror_mode": {
    "name": "ipython",
    "version": 3
   },
   "file_extension": ".py",
   "mimetype": "text/x-python",
   "name": "python",
   "nbconvert_exporter": "python",
   "pygments_lexer": "ipython3",
   "version": "3.6.7"
  }
 },
 "nbformat": 4,
 "nbformat_minor": 2
}
