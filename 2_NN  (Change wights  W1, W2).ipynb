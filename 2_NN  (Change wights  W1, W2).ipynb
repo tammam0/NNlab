{
 "cells": [
  {
   "cell_type": "code",
   "execution_count": 1,
   "metadata": {},
   "outputs": [],
   "source": [
    "import tensorflow as tf\n",
    "import numpy as np \n",
    "import matplotlib.pyplot as plt"
   ]
  },
  {
   "cell_type": "code",
   "execution_count": 24,
   "metadata": {},
   "outputs": [],
   "source": [
    "N, D, H = 64, 1000, 100\n",
    "x = tf.placeholder(tf.float32, shape=(N, D))\n",
    "y = tf.placeholder(tf.float32, shape=(N, D))\n",
    "w1 = tf.Variable(tf.random_normal((D, H)),name='w1')\n",
    "w2 = tf.Variable(tf.random_normal((H, D)),name='w2')\n",
    "\n",
    "h = tf.maximum(tf.matmul(x, w1), 0)\n",
    "y_pred = tf.matmul(h, w2)\n",
    "diff = y - y_pred \n",
    "loss = tf.reduce_mean(tf.reduce_sum(diff ** 2, axis=1))\n",
    "grade_w1, grade_w2 = tf.gradients(loss, [w1,w2])\n",
    "\n",
    "learning_rate=1e-5\n",
    "new_w1 = w1.assign(w1 - learning_rate * grade_w1)\n",
    "new_w2 = w2.assign(w2 - learning_rate * grade_w2)\n",
    "updates = tf.group(new_w1, new_w2)"
   ]
  },
  {
   "cell_type": "code",
   "execution_count": 26,
   "metadata": {},
   "outputs": [
    {
     "data": {
      "image/png": "[encoded data removed]",
      "text/plain": [
       "<Figure size 432x288 with 1 Axes>"
      ]
     },
     "metadata": {
      "needs_background": "light"
     },
     "output_type": "display_data"
    },
    {
     "name": "stdout",
     "output_type": "stream",
     "text": [
      "[51715084.0, None] [1031.5796, None]\n"
     ]
    }
   ],
   "source": [
    "with tf.Session() as sess:\n",
    "    sess.run(tf.global_variables_initializer())\n",
    "    values = {x: np.random.randn(N, D),\n",
    "              y: np.random.randn(N, D)}\n",
    "    out = sess.run([loss],feed_dict=values)\n",
    "    loss_summery=[]\n",
    "    steps=50\n",
    "    for t in range(steps):\n",
    "        out = sess.run([loss, updates],feed_dict=values)\n",
    "        loss_val = out\n",
    "        loss_summery.append(loss_val)\n",
    "    plt.plot(range(steps), loss_summery, 'ro',label='loss_value')\n",
    "    plt.show()\n",
    "    print(loss_summery[0],loss_summery[steps-1])\n"
   ]
  },
  {
   "cell_type": "code",
   "execution_count": null,
   "metadata": {},
   "outputs": [],
   "source": []
  },
  {
   "cell_type": "code",
   "execution_count": null,
   "metadata": {},
   "outputs": [],
   "source": []
  }
 ],
 "metadata": {
  "kernelspec": {
   "display_name": "NNlab",
   "language": "python",
   "name": "nnlab"
  },
  "language_info": {
   "codemirror_mode": {
    "name": "ipython",
    "version": 3
   },
   "file_extension": ".py",
   "mimetype": "text/x-python",
   "name": "python",
   "nbconvert_exporter": "python",
   "pygments_lexer": "ipython3",
   "version": "3.6.7"
  }
 },
 "nbformat": 4,
 "nbformat_minor": 2
}
