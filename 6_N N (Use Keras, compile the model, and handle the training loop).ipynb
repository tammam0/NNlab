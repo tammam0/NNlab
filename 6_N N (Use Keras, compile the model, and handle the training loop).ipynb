{
 "cells": [
  {
   "cell_type": "code",
   "execution_count": 26,
   "metadata": {},
   "outputs": [],
   "source": [
    "import tensorflow as tf\n",
    "import numpy as np "
   ]
  },
  {
   "cell_type": "code",
   "execution_count": 25,
   "metadata": {},
   "outputs": [],
   "source": [
    "N, D, H = 64, 1000, 100\n",
    "model=tf.keras.Sequential()\n",
    "model.add(tf.keras.layers.Dense(H,input_shape=(D,), activation=tf.nn.relu))\n",
    "model.add(tf.keras.layers.Dense(D))\n",
    "model.compile(loss=tf.keras.losses.mean_squared_error, optimizer=tf.keras.optimizers.SGD(lr=1e0))   #Using SGD method"
   ]
  },
  {
   "cell_type": "code",
   "execution_count": 23,
   "metadata": {},
   "outputs": [],
   "source": [
    "x=np.random.randn(N,D)\n",
    "y=np.random.randn(N,D)"
   ]
  },
  {
   "cell_type": "code",
   "execution_count": 24,
   "metadata": {},
   "outputs": [
    {
     "name": "stdout",
     "output_type": "stream",
     "text": [
      "Epoch 1/50\n",
      "64/64 [==============================] - 0s 4ms/step - loss: 1.1617\n",
      "Epoch 2/50\n",
      "64/64 [==============================] - 0s 144us/step - loss: 1.1242\n",
      "Epoch 3/50\n",
      "64/64 [==============================] - 0s 187us/step - loss: 1.0952\n",
      "Epoch 4/50\n",
      "64/64 [==============================] - 0s 141us/step - loss: 1.0720\n",
      "Epoch 5/50\n",
      "64/64 [==============================] - 0s 156us/step - loss: 1.0532\n",
      "Epoch 6/50\n",
      "64/64 [==============================] - 0s 156us/step - loss: 1.0377\n",
      "Epoch 7/50\n",
      "64/64 [==============================] - 0s 141us/step - loss: 1.0246\n",
      "Epoch 8/50\n",
      "64/64 [==============================] - 0s 141us/step - loss: 1.0136\n",
      "Epoch 9/50\n",
      "64/64 [==============================] - 0s 109us/step - loss: 1.0042\n",
      "Epoch 10/50\n",
      "64/64 [==============================] - 0s 109us/step - loss: 0.9960\n",
      "Epoch 11/50\n",
      "64/64 [==============================] - 0s 203us/step - loss: 0.9889\n",
      "Epoch 12/50\n",
      "64/64 [==============================] - 0s 172us/step - loss: 0.9827\n",
      "Epoch 13/50\n",
      "64/64 [==============================] - 0s 109us/step - loss: 0.9772\n",
      "Epoch 14/50\n",
      "64/64 [==============================] - 0s 187us/step - loss: 0.9723\n",
      "Epoch 15/50\n",
      "64/64 [==============================] - 0s 156us/step - loss: 0.9679\n",
      "Epoch 16/50\n",
      "64/64 [==============================] - 0s 141us/step - loss: 0.9640\n",
      "Epoch 17/50\n",
      "64/64 [==============================] - 0s 125us/step - loss: 0.9604\n",
      "Epoch 18/50\n",
      "64/64 [==============================] - 0s 141us/step - loss: 0.9570\n",
      "Epoch 19/50\n",
      "64/64 [==============================] - 0s 125us/step - loss: 0.9539\n",
      "Epoch 20/50\n",
      "64/64 [==============================] - 0s 141us/step - loss: 0.9510\n",
      "Epoch 21/50\n",
      "64/64 [==============================] - 0s 109us/step - loss: 0.9483\n",
      "Epoch 22/50\n",
      "64/64 [==============================] - 0s 125us/step - loss: 0.9457\n",
      "Epoch 23/50\n",
      "64/64 [==============================] - 0s 219us/step - loss: 0.9432\n",
      "Epoch 24/50\n",
      "64/64 [==============================] - 0s 141us/step - loss: 0.9408\n",
      "Epoch 25/50\n",
      "64/64 [==============================] - 0s 109us/step - loss: 0.9384\n",
      "Epoch 26/50\n",
      "64/64 [==============================] - 0s 109us/step - loss: 0.9361\n",
      "Epoch 27/50\n",
      "64/64 [==============================] - 0s 219us/step - loss: 0.9339\n",
      "Epoch 28/50\n",
      "64/64 [==============================] - 0s 125us/step - loss: 0.9316\n",
      "Epoch 29/50\n",
      "64/64 [==============================] - 0s 234us/step - loss: 0.9294\n",
      "Epoch 30/50\n",
      "64/64 [==============================] - 0s 203us/step - loss: 0.9273\n",
      "Epoch 31/50\n",
      "64/64 [==============================] - 0s 109us/step - loss: 0.9251\n",
      "Epoch 32/50\n",
      "64/64 [==============================] - 0s 141us/step - loss: 0.9229\n",
      "Epoch 33/50\n",
      "64/64 [==============================] - 0s 141us/step - loss: 0.9207\n",
      "Epoch 34/50\n",
      "64/64 [==============================] - 0s 94us/step - loss: 0.9185\n",
      "Epoch 35/50\n",
      "64/64 [==============================] - 0s 172us/step - loss: 0.9163\n",
      "Epoch 36/50\n",
      "64/64 [==============================] - 0s 141us/step - loss: 0.9140\n",
      "Epoch 37/50\n",
      "64/64 [==============================] - 0s 125us/step - loss: 0.9118\n",
      "Epoch 38/50\n",
      "64/64 [==============================] - 0s 125us/step - loss: 0.9095\n",
      "Epoch 39/50\n",
      "64/64 [==============================] - 0s 109us/step - loss: 0.9072\n",
      "Epoch 40/50\n",
      "64/64 [==============================] - 0s 234us/step - loss: 0.9049\n",
      "Epoch 41/50\n",
      "64/64 [==============================] - 0s 156us/step - loss: 0.9026\n",
      "Epoch 42/50\n",
      "64/64 [==============================] - 0s 109us/step - loss: 0.9002\n",
      "Epoch 43/50\n",
      "64/64 [==============================] - 0s 109us/step - loss: 0.8978\n",
      "Epoch 44/50\n",
      "64/64 [==============================] - 0s 203us/step - loss: 0.8953\n",
      "Epoch 45/50\n",
      "64/64 [==============================] - 0s 172us/step - loss: 0.8928\n",
      "Epoch 46/50\n",
      "64/64 [==============================] - 0s 125us/step - loss: 0.8903\n",
      "Epoch 47/50\n",
      "64/64 [==============================] - 0s 125us/step - loss: 0.8878\n",
      "Epoch 48/50\n",
      "64/64 [==============================] - 0s 109us/step - loss: 0.8852\n",
      "Epoch 49/50\n",
      "64/64 [==============================] - 0s 109us/step - loss: 0.8825\n",
      "Epoch 50/50\n",
      "64/64 [==============================] - 0s 109us/step - loss: 0.8799\n"
     ]
    }
   ],
   "source": [
    "history=model.fit(x,y,epochs=50,batch_size=N)  #Keras can handle the training loop, No sessions or feed_dict"
   ]
  },
  {
   "cell_type": "code",
   "execution_count": null,
   "metadata": {},
   "outputs": [],
   "source": []
  }
 ],
 "metadata": {
  "kernelspec": {
   "display_name": "NNlab",
   "language": "python",
   "name": "nnlab"
  },
  "language_info": {
   "codemirror_mode": {
    "name": "ipython",
    "version": 3
   },
   "file_extension": ".py",
   "mimetype": "text/x-python",
   "name": "python",
   "nbconvert_exporter": "python",
   "pygments_lexer": "ipython3",
   "version": "3.6.7"
  }
 },
 "nbformat": 4,
 "nbformat_minor": 2
}
